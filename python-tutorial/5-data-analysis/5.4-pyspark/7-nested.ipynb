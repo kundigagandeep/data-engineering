{
 "cells": [
  {
   "cell_type": "code",
   "execution_count": 5,
   "metadata": {},
   "outputs": [
    {
     "name": "stdout",
     "output_type": "stream",
     "text": [
      "22/11/09 14:48:21 WARN SparkSession: Using an existing Spark session; only runtime SQL configurations will take effect.\n",
      "Welcome to\n",
      "      ____              __\n",
      "     / __/__  ___ _____/ /__\n",
      "    _\\ \\/ _ \\/ _ `/ __/  '_/\n",
      "   /__ / .__/\\_,_/_/ /_/\\_\\   version 3.3.0\n",
      "      /_/\n",
      "\n",
      "Using Python version 3.9.12 (main, Apr  5 2022 01:53:17)\n",
      "Spark context Web UI available at http://192.168.0.228:4041\n",
      "Spark context available as 'sc' (master = local[*], app id = local-1668001567029).\n",
      "SparkSession available as 'spark'.\n"
     ]
    }
   ],
   "source": [
    "import json\n",
    "import re\n",
    "\n",
    "import pyspark.sql.functions as f\n",
    "from pyspark.shell import spark\n",
    "from pyspark.sql.types import ArrayType, StructType, StructField, StringType, DoubleType\n",
    "\n",
    "df = spark.createDataFrame([\n",
    "    ('test:1',\n",
    "     '{\"test1\":[{\"Id\":\"17\",\"cName\":\"c1\"},{\"Id\":\"01\",\"cName\":\"c2\",\"pScore\":0.003609}]},'\n",
    "     '{\"test8\":[{\"Id\":\"1\",\"cName\":\"c11\",\"pScore\":0.0},{\"Id\":\"012\",\"cName\":\"c2\",\"pScore\":0.003609}]}'),\n",
    "    ('test:2', '{\"test1:subtest2\":[{\"Id\":\"18\",\"cName\":\"c13\",\"pScore\":0.00203}]}')\n",
    "], ['col1', 'col2'])\n",
    "\n",
    "schema = ArrayType(\n",
    "    StructType(\n",
    "        [\n",
    "            StructField(\"Col\", StringType()),\n",
    "            StructField(\"Id\", StringType()),\n",
    "            StructField(\"cName\", StringType()),\n",
    "            StructField(\"pScore\", DoubleType())\n",
    "        ]\n",
    "    )\n",
    ")"
   ]
  },
  {
   "cell_type": "code",
   "execution_count": 6,
   "metadata": {},
   "outputs": [
    {
     "data": {
      "text/plain": [
       "ArrayType(StructType([StructField('Col', StringType(), True), StructField('Id', StringType(), True), StructField('cName', StringType(), True), StructField('pScore', DoubleType(), True)]), True)"
      ]
     },
     "execution_count": 6,
     "metadata": {},
     "output_type": "execute_result"
    }
   ],
   "source": [
    "schema"
   ]
  },
  {
   "cell_type": "code",
   "execution_count": null,
   "metadata": {},
   "outputs": [],
   "source": []
  }
 ],
 "metadata": {
  "kernelspec": {
   "display_name": "Python 3.9.12 ('base')",
   "language": "python",
   "name": "python3"
  },
  "language_info": {
   "codemirror_mode": {
    "name": "ipython",
    "version": 3
   },
   "file_extension": ".py",
   "mimetype": "text/x-python",
   "name": "python",
   "nbconvert_exporter": "python",
   "pygments_lexer": "ipython3",
   "version": "3.9.12"
  },
  "orig_nbformat": 4,
  "vscode": {
   "interpreter": {
    "hash": "2df62601e34b052a7879d49aa284d4570bc3c14c324ffab886cde46341e00144"
   }
  }
 },
 "nbformat": 4,
 "nbformat_minor": 2
}
