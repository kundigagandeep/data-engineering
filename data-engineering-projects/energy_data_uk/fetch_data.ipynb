{
 "cells": [
  {
   "cell_type": "code",
   "execution_count": 38,
   "metadata": {},
   "outputs": [],
   "source": [
    "import requests\n",
    "import pandas as pd\n",
    "import os\n"
   ]
  },
  {
   "cell_type": "code",
   "execution_count": 35,
   "metadata": {},
   "outputs": [],
   "source": [
    "region = {10 : \"Eastern England\",\n",
    "11 : \"East Midlands\",\n",
    "12 : \"London\",\n",
    "13 : \"North Wales & Mersey\",\n",
    "14 : \"Midlands\",\n",
    "15 : \"North East\",\n",
    "16 : \"North West\",\n",
    "17 : \"Northern Scotland\",\n",
    "18 : \"Southern Scotland\",\n",
    "19 : \"South East\",\n",
    "20 : \"Southern\",\n",
    "21 : \"South Wales\",\n",
    "22 : \"South Western\",\n",
    "23 : \"Yorkshire\"}"
   ]
  },
  {
   "cell_type": "code",
   "execution_count": 48,
   "metadata": {},
   "outputs": [],
   "source": [
    "def fetch_data(dno_region_code, start_date, end_date):\n",
    "    \n",
    "    headers = {\n",
    "        \"Accept\": \"application/json\"\n",
    "        }\n",
    "\n",
    "    r = requests.get(f\"https://odegdcpnma.execute-api.eu-west-2.amazonaws.com/development/prices?dno={dno_region_code}&voltage=HV&start={start_date}&end={end_date}\",\n",
    "                    params={}, \n",
    "                    headers = headers)\n",
    "\n",
    "    response = r.json()\n",
    "\n",
    "    df = pd.json_normalize(response['data']['data'])\n",
    "\n",
    "    df = df.rename(columns={'Timestamp':'timestamp','Overall':'price'})\n",
    "\n",
    "    df = df.drop(columns=['unixTimestamp'],axis=1)\n",
    "\n",
    "    df['region_code'] = dno_region_code\n",
    "\n",
    "    df['region_name'] = region[dno_region_code]\n",
    "\n",
    "    df = df[['region_code','region_name','timestamp','price']]\n",
    "\n",
    "    os.mkdir(f'Users/gagandeepkundi/Education/data-engineering/data-engineering-projects/energy_data_uk/data_files/{region[dno_region_code]}')\n",
    "\n",
    "    return df.to_csv(f'/Users/gagandeepkundi/Education/data-engineering/data-engineering-projects/energy_data_uk/data_files/{region[dno_region_code]}/{start_date}-{region[dno_region_code]}.csv',index=False)"
   ]
  },
  {
   "cell_type": "code",
   "execution_count": 49,
   "metadata": {},
   "outputs": [
    {
     "ename": "KeyError",
     "evalue": "'data'",
     "output_type": "error",
     "traceback": [
      "\u001b[0;31m---------------------------------------------------------------------------\u001b[0m",
      "\u001b[0;31mKeyError\u001b[0m                                  Traceback (most recent call last)",
      "Cell \u001b[0;32mIn [49], line 4\u001b[0m\n\u001b[1;32m      2\u001b[0m \u001b[39mfor\u001b[39;00m start_date \u001b[39min\u001b[39;00m pd\u001b[39m.\u001b[39mdate_range(start\u001b[39m=\u001b[39m\u001b[39m'\u001b[39m\u001b[39m1/1/2020\u001b[39m\u001b[39m'\u001b[39m, periods\u001b[39m=\u001b[39m\u001b[39m12\u001b[39m, freq\u001b[39m=\u001b[39m\u001b[39m'\u001b[39m\u001b[39mM\u001b[39m\u001b[39m'\u001b[39m):\n\u001b[1;32m      3\u001b[0m     \u001b[39mfor\u001b[39;00m end_date \u001b[39min\u001b[39;00m pd\u001b[39m.\u001b[39mdate_range(end\u001b[39m=\u001b[39m\u001b[39m'\u001b[39m\u001b[39m1/1/2020\u001b[39m\u001b[39m'\u001b[39m, periods\u001b[39m=\u001b[39m\u001b[39m12\u001b[39m, freq\u001b[39m=\u001b[39m\u001b[39m'\u001b[39m\u001b[39mM\u001b[39m\u001b[39m'\u001b[39m):\n\u001b[0;32m----> 4\u001b[0m         fetch_data(region, start_date\u001b[39m=\u001b[39;49m\u001b[39mf\u001b[39;49m\u001b[39m\"\u001b[39;49m\u001b[39m{\u001b[39;49;00mstart_date\u001b[39m}\u001b[39;49;00m\u001b[39m\"\u001b[39;49m, end_date\u001b[39m=\u001b[39;49m\u001b[39mf\u001b[39;49m\u001b[39m\"\u001b[39;49m\u001b[39m{\u001b[39;49;00mend_date\u001b[39m}\u001b[39;49;00m\u001b[39m\"\u001b[39;49m)\n",
      "Cell \u001b[0;32mIn [48], line 13\u001b[0m, in \u001b[0;36mfetch_data\u001b[0;34m(dno_region_code, start_date, end_date)\u001b[0m\n\u001b[1;32m      7\u001b[0m r \u001b[39m=\u001b[39m requests\u001b[39m.\u001b[39mget(\u001b[39mf\u001b[39m\u001b[39m\"\u001b[39m\u001b[39mhttps://odegdcpnma.execute-api.eu-west-2.amazonaws.com/development/prices?dno=\u001b[39m\u001b[39m{\u001b[39;00mdno_region_code\u001b[39m}\u001b[39;00m\u001b[39m&voltage=HV&start=\u001b[39m\u001b[39m{\u001b[39;00mstart_date\u001b[39m}\u001b[39;00m\u001b[39m&end=\u001b[39m\u001b[39m{\u001b[39;00mend_date\u001b[39m}\u001b[39;00m\u001b[39m\"\u001b[39m,\n\u001b[1;32m      8\u001b[0m                 params\u001b[39m=\u001b[39m{}, \n\u001b[1;32m      9\u001b[0m                 headers \u001b[39m=\u001b[39m headers)\n\u001b[1;32m     11\u001b[0m response \u001b[39m=\u001b[39m r\u001b[39m.\u001b[39mjson()\n\u001b[0;32m---> 13\u001b[0m df \u001b[39m=\u001b[39m pd\u001b[39m.\u001b[39mjson_normalize(response[\u001b[39m'\u001b[39;49m\u001b[39mdata\u001b[39;49m\u001b[39m'\u001b[39;49m][\u001b[39m'\u001b[39m\u001b[39mdata\u001b[39m\u001b[39m'\u001b[39m])\n\u001b[1;32m     15\u001b[0m df \u001b[39m=\u001b[39m df\u001b[39m.\u001b[39mrename(columns\u001b[39m=\u001b[39m{\u001b[39m'\u001b[39m\u001b[39mTimestamp\u001b[39m\u001b[39m'\u001b[39m:\u001b[39m'\u001b[39m\u001b[39mtimestamp\u001b[39m\u001b[39m'\u001b[39m,\u001b[39m'\u001b[39m\u001b[39mOverall\u001b[39m\u001b[39m'\u001b[39m:\u001b[39m'\u001b[39m\u001b[39mprice\u001b[39m\u001b[39m'\u001b[39m})\n\u001b[1;32m     17\u001b[0m df \u001b[39m=\u001b[39m df\u001b[39m.\u001b[39mdrop(columns\u001b[39m=\u001b[39m[\u001b[39m'\u001b[39m\u001b[39munixTimestamp\u001b[39m\u001b[39m'\u001b[39m],axis\u001b[39m=\u001b[39m\u001b[39m1\u001b[39m)\n",
      "\u001b[0;31mKeyError\u001b[0m: 'data'"
     ]
    }
   ],
   "source": [
    "for region in range(10, 24):\n",
    "    for start_date in pd.date_range(start='1/1/2020', periods=12, freq='M'):\n",
    "        for end_date in pd.date_range(end='1/1/2020', periods=12, freq='M'):\n",
    "            fetch_data(region, start_date=f\"{start_date}\", end_date=f\"{end_date}\")"
   ]
  },
  {
   "cell_type": "code",
   "execution_count": null,
   "metadata": {},
   "outputs": [],
   "source": []
  }
 ],
 "metadata": {
  "kernelspec": {
   "display_name": "Python 3.9.0 ('data_eng')",
   "language": "python",
   "name": "python3"
  },
  "language_info": {
   "codemirror_mode": {
    "name": "ipython",
    "version": 3
   },
   "file_extension": ".py",
   "mimetype": "text/x-python",
   "name": "python",
   "nbconvert_exporter": "python",
   "pygments_lexer": "ipython3",
   "version": "3.9.0"
  },
  "orig_nbformat": 4,
  "vscode": {
   "interpreter": {
    "hash": "2db320f8a8002ae2117fb29f9d3d0d45665bde0a11c1acc90444243f310b1b71"
   }
  }
 },
 "nbformat": 4,
 "nbformat_minor": 2
}
