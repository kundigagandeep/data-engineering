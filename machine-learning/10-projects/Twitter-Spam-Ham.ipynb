{
  "cells": [
    {
      "cell_type": "markdown",
      "metadata": {
        "id": "imxQCHLXNPe-"
      },
      "source": [
        "# Import Libraries"
      ]
    },
    {
      "cell_type": "code",
      "execution_count": null,
      "metadata": {
        "id": "8zdZlgSiNPfA"
      },
      "outputs": [],
      "source": [
        "import pandas as pd\n",
        "import numpy as np\n",
        "import warnings\n",
        "warnings.filterwarnings('ignore')"
      ]
    },
    {
      "cell_type": "code",
      "execution_count": null,
      "metadata": {
        "id": "NrQii1EaNPfB",
        "outputId": "fa5e44fd-619e-4e8e-c586-4e35e7e65179"
      },
      "outputs": [],
      "source": [
        "#Enter Training dataset\n",
        "\n",
        "df=pd.read_csv('/Users/gagandeepkundi/Education/data-engineering/machine-learning/9-datasets/Twitter-Spam-Ham.csv')\n",
        "\n",
        "df.head()"
      ]
    },
    {
      "cell_type": "code",
      "execution_count": null,
      "metadata": {
        "id": "rlHaVDSVNPfE"
      },
      "outputs": [],
      "source": [
        "#Declare Feature and Target variable\n",
        "\n",
        "X=df['text']\n",
        "\n",
        "y=df['label']"
      ]
    },
    {
      "cell_type": "code",
      "execution_count": null,
      "metadata": {
        "id": "d8AwltcbNPfE"
      },
      "outputs": [],
      "source": [
        "from sklearn.model_selection import train_test_split\n",
        "\n",
        "X_train, X_test, y_train, y_test = train_test_split(X, y, test_size=0.2, random_state = 42)"
      ]
    },
    {
      "cell_type": "code",
      "execution_count": null,
      "metadata": {
        "id": "AYlNf3H5NPfG"
      },
      "outputs": [],
      "source": [
        "from sklearn.feature_extraction.text import TfidfVectorizer\n",
        "\n",
        "vectorizer = TfidfVectorizer()\n",
        "\n",
        "X_train_tfidf = vectorizer.fit_transform(X_train)"
      ]
    },
    {
      "cell_type": "code",
      "execution_count": null,
      "metadata": {
        "id": "_sC8U820NPfG",
        "outputId": "40b69eac-c373-4f9b-d729-ea9803f3cd49"
      },
      "outputs": [],
      "source": [
        "#Linear Support Machine Vector\n",
        "\n",
        "from sklearn.svm import LinearSVC\n",
        "\n",
        "clf = LinearSVC()\n",
        "\n",
        "clf.fit(X_train_tfidf,y_train)"
      ]
    },
    {
      "cell_type": "code",
      "execution_count": null,
      "metadata": {
        "id": "3npZ3SjrNPfH"
      },
      "outputs": [],
      "source": [
        "from sklearn.pipeline import Pipeline\n",
        "\n",
        "text_clf = Pipeline ([('tfidf',TfidfVectorizer(analyzer='word',ngram_range = (1,2))),('clf', LinearSVC())])\n",
        "\n",
        "text_clf.fit(X_train,y_train)\n",
        "\n",
        "predictions = text_clf.predict(X_test)"
      ]
    },
    {
      "cell_type": "code",
      "execution_count": null,
      "metadata": {
        "id": "EbU53iAANPfH",
        "outputId": "fe02f109-2347-4cb1-e463-0d0bd52bed13"
      },
      "outputs": [],
      "source": [
        "from sklearn.metrics import confusion_matrix, classification_report\n",
        "\n",
        "cm = confusion_matrix(y_test, predictions)\n",
        "\n",
        "print('Confusion matrix\\n\\n', cm)\n",
        "\n",
        "print('\\nTrue Positives(TP) = ', cm[0,0])\n",
        "\n",
        "print('\\nTrue Negatives(TN) = ', cm[1,1])\n",
        "\n",
        "print('\\nFalse Positives(FP) = ', cm[0,1])\n",
        "\n",
        "print('\\nFalse Negatives(FN) = ', cm[1,0])"
      ]
    },
    {
      "cell_type": "code",
      "execution_count": null,
      "metadata": {
        "id": "2tofu9B8NPfH",
        "outputId": "a2d0e636-90d2-441f-dd55-3caa30a6f20b"
      },
      "outputs": [],
      "source": [
        "print(classification_report(y_test, predictions))"
      ]
    },
    {
      "cell_type": "code",
      "execution_count": null,
      "metadata": {
        "id": "VnRb4eFHNPfI",
        "outputId": "0a84370e-f3b7-43ec-913b-7d82cd3bd7d7"
      },
      "outputs": [],
      "source": [
        "from sklearn import metrics\n",
        "\n",
        "print(str('Accuracy: '),round(metrics.accuracy_score(y_test, predictions),3)*100, str('%'))"
      ]
    },
    {
      "cell_type": "markdown",
      "metadata": {
        "id": "FmZ5b8_QNPfI"
      },
      "source": [
        "# Check Predictions"
      ]
    },
    {
      "cell_type": "code",
      "execution_count": null,
      "metadata": {
        "id": "a_dFojnfNPfJ"
      },
      "outputs": [],
      "source": [
        "text_clf.predict(['explain timer timer reaction <br /><br /><br /><br /><br /><br /><br /><br /> bgt-ejsx-ebt​'])[0]"
      ]
    },
    {
      "cell_type": "markdown",
      "metadata": {},
      "source": [
        "# To Make predictions on a dataset in bulk"
      ]
    },
    {
      "cell_type": "code",
      "execution_count": null,
      "metadata": {
        "id": "aFsqyRU6NPfK"
      },
      "outputs": [],
      "source": [
        "#Prediction Function\n",
        "\n",
        "def predict(x):\n",
        "    pred = text_clf.predict([x])\n",
        "    return pred"
      ]
    },
    {
      "cell_type": "code",
      "execution_count": null,
      "metadata": {
        "id": "bGmgMg5MNPfK"
      },
      "outputs": [],
      "source": [
        "#Confidence Function\n",
        "conf = text_clf.decision_function(X_test)\n",
        "\n",
        "def conf(x):\n",
        "    conf = text_clf.decision_function([x])\n",
        "    return conf"
      ]
    },
    {
      "cell_type": "code",
      "execution_count": null,
      "metadata": {},
      "outputs": [],
      "source": [
        "#import a csv on which you wish to make predictions\n",
        "\n",
        "df2 = pd.read_csv(path)"
      ]
    },
    {
      "cell_type": "code",
      "execution_count": null,
      "metadata": {
        "id": "G6GYB5N2NPfK"
      },
      "outputs": [],
      "source": [
        "#Apply Predict and Confident Function\n",
        "\n",
        "df2['moderator_response'] = df2['content'].apply(lambda x: predict(x))\n",
        "\n",
        "df2['confidence'] = df2['content'].apply(lambda x: conf(x))\n",
        "\n",
        "df2.head()"
      ]
    },
    {
      "cell_type": "code",
      "execution_count": null,
      "metadata": {
        "id": "9VzcTjLmNPfK"
      },
      "outputs": [],
      "source": [
        "df2['confidence'] = df2['confidence'].apply(lambda x: abs(x))\n",
        "\n",
        "df2['confident_%'] = df2['confidence'].apply(lambda x: 'Confident' if x > 0.2 else 'Not Sure')"
      ]
    },
    {
      "cell_type": "code",
      "execution_count": null,
      "metadata": {
        "id": "v8Q7yLQINPfK"
      },
      "outputs": [],
      "source": [
        "df2.head()"
      ]
    },
    {
      "cell_type": "code",
      "execution_count": null,
      "metadata": {
        "id": "UAsnDsbZNPfL"
      },
      "outputs": [],
      "source": [
        "#Filter only the Spam Content\n",
        "df2[(df2['confident_%']=='Confident')&(df2['moderator_response']=='spam')]"
      ]
    },
    {
      "cell_type": "code",
      "execution_count": null,
      "metadata": {
        "id": "soHqomx5NPfL"
      },
      "outputs": [],
      "source": [
        "#Save CSV\n",
        "\n",
        "#df2.to_csv('path')"
      ]
    }
  ],
  "metadata": {
    "colab": {
      "provenance": []
    },
    "kernelspec": {
      "display_name": "Python 3.9.0 ('data_eng')",
      "language": "python",
      "name": "python3"
    },
    "language_info": {
      "codemirror_mode": {
        "name": "ipython",
        "version": 3
      },
      "file_extension": ".py",
      "mimetype": "text/x-python",
      "name": "python",
      "nbconvert_exporter": "python",
      "pygments_lexer": "ipython3",
      "version": "3.9.0"
    },
    "vscode": {
      "interpreter": {
        "hash": "2db320f8a8002ae2117fb29f9d3d0d45665bde0a11c1acc90444243f310b1b71"
      }
    }
  },
  "nbformat": 4,
  "nbformat_minor": 0
}
