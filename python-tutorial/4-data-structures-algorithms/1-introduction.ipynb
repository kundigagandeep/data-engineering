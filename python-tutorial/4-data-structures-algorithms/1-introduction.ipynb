{
 "cells": [
  {
   "cell_type": "markdown",
   "metadata": {},
   "source": [
    "# What is an Algorithm?\n",
    "<br>\n",
    "Algorithm is a procedure or a set of instruction provided to solve a problem. The problem will contain a specific input and a expected out, how can the expected output be achivied can be using an algorithm. \n",
    "<br>\n",
    "For example, you have two numbers and you would like to add them an multiple them in the next step and print both results out, how can you make it possible is through an algorithm"
   ]
  },
  {
   "cell_type": "code",
   "execution_count": 2,
   "metadata": {},
   "outputs": [],
   "source": [
    "#Example\n",
    "\n",
    "def add_mult(a, b):\n",
    "    result_sum = a + b\n",
    "    result_mult =  a * b\n",
    "    print(f'Sum:{result_sum}, Multiplication:{result_mult}')"
   ]
  },
  {
   "cell_type": "code",
   "execution_count": 3,
   "metadata": {},
   "outputs": [
    {
     "name": "stdout",
     "output_type": "stream",
     "text": [
      "Sum:5, Multiplication:6\n"
     ]
    }
   ],
   "source": [
    "add_mult(2,3)"
   ]
  }
 ],
 "metadata": {
  "kernelspec": {
   "display_name": "Python 3.9.0 ('data_eng')",
   "language": "python",
   "name": "python3"
  },
  "language_info": {
   "codemirror_mode": {
    "name": "ipython",
    "version": 3
   },
   "file_extension": ".py",
   "mimetype": "text/x-python",
   "name": "python",
   "nbconvert_exporter": "python",
   "pygments_lexer": "ipython3",
   "version": "3.9.0"
  },
  "orig_nbformat": 4,
  "vscode": {
   "interpreter": {
    "hash": "2db320f8a8002ae2117fb29f9d3d0d45665bde0a11c1acc90444243f310b1b71"
   }
  }
 },
 "nbformat": 4,
 "nbformat_minor": 2
}
