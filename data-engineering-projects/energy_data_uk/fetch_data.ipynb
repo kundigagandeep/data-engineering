{
 "cells": [
  {
   "cell_type": "code",
   "execution_count": 1,
   "metadata": {},
   "outputs": [],
   "source": [
    "import requests\n",
    "import pandas as pd\n",
    "import os\n",
    "from datetime import date, datetime, timedelta"
   ]
  },
  {
   "cell_type": "code",
   "execution_count": 18,
   "metadata": {},
   "outputs": [],
   "source": [
    "def fetch_data(dno_region_code, start_date, end_date):\n",
    "    \n",
    "    headers = {\n",
    "        \"Accept\": \"application/json\"\n",
    "        }\n",
    "\n",
    "    r = requests.get(f\"https://odegdcpnma.execute-api.eu-west-2.amazonaws.com/development/prices?dno={dno_region_code}&voltage=HV&start={start_date}&end={end_date}\",\n",
    "                    params={}, \n",
    "                    headers = headers)\n",
    "\n",
    "    response = r.json()\n",
    "\n",
    "    region = {10 : \"Eastern England\",\n",
    "            11 : \"East Midlands\",\n",
    "            12 : \"London\",\n",
    "            13 : \"North Wales & Mersey\",\n",
    "            14 : \"Midlands\",\n",
    "            15 : \"North East\",\n",
    "            16 : \"North West\",\n",
    "            17 : \"Northern Scotland\",\n",
    "            18 : \"Southern Scotland\",\n",
    "            19 : \"South East\",\n",
    "            20 : \"Southern\",\n",
    "            21 : \"South Wales\",\n",
    "            22 : \"South Western\",\n",
    "            23 : \"Yorkshire\"}\n",
    "\n",
    "    df = pd.json_normalize(response['data']['data'])\n",
    "\n",
    "    df = df.rename(columns={'Timestamp':'timestamp','Overall':'price'})\n",
    "\n",
    "    df = df.drop(columns=['unixTimestamp'],axis=1)\n",
    "\n",
    "    df['region_code'] = dno_region_code\n",
    "\n",
    "    df['region_name'] = region[dno_region_code]\n",
    "\n",
    "    df = df[['region_code','region_name','timestamp','price']]\n",
    "\n",
    "    os.makedirs(f'/Users/gagandeepkundi/Education/data-engineering/data-engineering-projects/energy_data_uk/data_files/{region[dno_region_code]}', exist_ok=True)\n",
    "\n",
    "    return df.to_csv(f'/Users/gagandeepkundi/Education/data-engineering/data-engineering-projects/energy_data_uk/data_files/{region[dno_region_code]}/{start_date}-{region[dno_region_code]}.csv',index=False)"
   ]
  },
  {
   "cell_type": "code",
   "execution_count": 12,
   "metadata": {},
   "outputs": [],
   "source": [
    "def get_first_date_of_current_month(year, month):\n",
    "    first_date = datetime(year, month, 1)\n",
    "    return first_date.strftime(\"%d-%m-%Y\")\n",
    "\n",
    "def get_last_date_of_month(year, month):\n",
    "    if month == 12:\n",
    "        last_date = datetime(year, month, 31)\n",
    "    else:\n",
    "        last_date = datetime(year, month + 1, 1) + timedelta(days=-1)\n",
    "    \n",
    "    return last_date.strftime(\"%d-%m-%Y\")"
   ]
  },
  {
   "cell_type": "code",
   "execution_count": 20,
   "metadata": {},
   "outputs": [],
   "source": [
    "for j in range(1,13):\n",
    "    start_date = get_first_date_of_current_month(2022,j)\n",
    "    end_date = get_last_date_of_month(2022,j)\n",
    "    for region in range(10, 24):\n",
    "        fetch_data(region, start_date=start_date, end_date=end_date)"
   ]
  }
 ],
 "metadata": {
  "kernelspec": {
   "display_name": "Python 3.9.0 ('data_eng')",
   "language": "python",
   "name": "python3"
  },
  "language_info": {
   "codemirror_mode": {
    "name": "ipython",
    "version": 3
   },
   "file_extension": ".py",
   "mimetype": "text/x-python",
   "name": "python",
   "nbconvert_exporter": "python",
   "pygments_lexer": "ipython3",
   "version": "3.9.0"
  },
  "orig_nbformat": 4,
  "vscode": {
   "interpreter": {
    "hash": "2db320f8a8002ae2117fb29f9d3d0d45665bde0a11c1acc90444243f310b1b71"
   }
  }
 },
 "nbformat": 4,
 "nbformat_minor": 2
}
