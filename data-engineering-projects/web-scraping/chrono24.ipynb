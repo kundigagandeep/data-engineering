{
 "cells": [
  {
   "cell_type": "code",
   "execution_count": 67,
   "metadata": {},
   "outputs": [],
   "source": [
    "import sys\n",
    "import csv\n",
    "from selenium import webdriver\n",
    "from datetime import datetime\n",
    "from selenium.webdriver.common.by import By\n",
    "from selenium.webdriver.support.ui import WebDriverWait\n",
    "from selenium.webdriver.support import expected_conditions as EC\n",
    "from selenium.webdriver.common.keys import Keys\n",
    "from selenium.common.exceptions import NoSuchElementException\n",
    "from time import time\n",
    "from time import sleep"
   ]
  },
  {
   "cell_type": "code",
   "execution_count": 68,
   "metadata": {},
   "outputs": [],
   "source": [
    "#Install Driver\n",
    "from webdriver_manager.chrome import ChromeDriverManager\n",
    "from selenium.webdriver.chrome.service import Service\n",
    "\n",
    "driver = webdriver.Chrome(service=Service(ChromeDriverManager().install()))"
   ]
  },
  {
   "cell_type": "code",
   "execution_count": 69,
   "metadata": {},
   "outputs": [],
   "source": [
    "# # we will be using below incognito argument to our webdriver\n",
    "# option = webdriver.ChromeOptions()\n",
    "\n",
    "# driver = webdriver.Chrome(executable_path=\"/Users/gagandeepkundi/Downloads/chromedriver\", chrome_options=option)"
   ]
  },
  {
   "cell_type": "code",
   "execution_count": 70,
   "metadata": {},
   "outputs": [],
   "source": [
    "driver.get('https://chrono24.pl')"
   ]
  },
  {
   "cell_type": "code",
   "execution_count": 71,
   "metadata": {},
   "outputs": [],
   "source": [
    "Accept_button = WebDriverWait(driver,10).until(lambda driver: driver.find_element(\"xpath\",'//*[@id=\"modal-content\"]/div/button'))\n",
    "\n",
    "Accept_button.click()"
   ]
  },
  {
   "cell_type": "code",
   "execution_count": 72,
   "metadata": {},
   "outputs": [],
   "source": [
    "#Search for Rolex Oyster Perpetual model on website\n",
    "R = \"Rolex Oyster Perpetual 36\"\n",
    "username = WebDriverWait(driver,10).until(lambda driver: driver.find_element(\"xpath\",'//*[@id=\"query\"]'))\n",
    "username.send_keys(R)"
   ]
  },
  {
   "cell_type": "code",
   "execution_count": 73,
   "metadata": {},
   "outputs": [],
   "source": [
    "#Click on ‘FIND A WATCH NOW’ button\n",
    "Find_button = WebDriverWait(driver,10).until(lambda driver: driver.find_element(\"xpath\",'//*[@id=\"header-search\"]/div/div[1]/button'))\n",
    "Find_button.click()"
   ]
  },
  {
   "cell_type": "code",
   "execution_count": 74,
   "metadata": {},
   "outputs": [],
   "source": [
    "Accept_button = WebDriverWait(driver,10).until(lambda driver: driver.find_element(\"xpath\",'//*[@id=\"modal-content\"]/div[2]/div[2]/button[1]'))\n",
    "Accept_button.click()\n"
   ]
  },
  {
   "cell_type": "code",
   "execution_count": 77,
   "metadata": {},
   "outputs": [],
   "source": [
    "#switch the search result view layout to vertical alignment\n",
    "Vertical_view=WebDriverWait(driver,10).until(lambda driver: driver.find_element(\"xpath\",\"\"\"//*[@id=\"jq-result-view-switch\"]/a\"\"\"))\n",
    "\n",
    "Vertical_view.click()"
   ]
  },
  {
   "cell_type": "code",
   "execution_count": null,
   "metadata": {},
   "outputs": [],
   "source": []
  },
  {
   "cell_type": "code",
   "execution_count": 78,
   "metadata": {},
   "outputs": [],
   "source": [
    "Models = driver.find_elements(\"xpath\",\"\"\"//*[@id=\"wt-watches\"]/div[1]/a/div[2]/div[1]\"\"\")"
   ]
  },
  {
   "cell_type": "code",
   "execution_count": null,
   "metadata": {},
   "outputs": [],
   "source": [
    "Prices = driver.find_elements(\"xpath\",\"\"\"//*[@id=\"wt-watches\"]/div[1]/a/div/div[2]/div[2]/div/div[1]/div[1]\"\"\")"
   ]
  },
  {
   "cell_type": "code",
   "execution_count": null,
   "metadata": {},
   "outputs": [],
   "source": [
    "Conditions = driver.find_elements(By.XPATH,'//*[@id=\"wt-watches\"]/div/a/div/div[2]/div[1]/div[2]/div[4]/div[2]')"
   ]
  },
  {
   "cell_type": "code",
   "execution_count": 79,
   "metadata": {},
   "outputs": [
    {
     "data": {
      "text/plain": [
       "[<selenium.webdriver.remote.webelement.WebElement (session=\"cba30bd139b65a692d1cb4de2986487c\", element=\"36ecca86-451a-4b5b-b871-fa72da5ae491\")>]"
      ]
     },
     "execution_count": 79,
     "metadata": {},
     "output_type": "execute_result"
    }
   ],
   "source": [
    "Models"
   ]
  },
  {
   "cell_type": "code",
   "execution_count": null,
   "metadata": {},
   "outputs": [],
   "source": [
    "Prices"
   ]
  }
 ],
 "metadata": {
  "kernelspec": {
   "display_name": "Python 3.9.0 ('data_eng')",
   "language": "python",
   "name": "python3"
  },
  "language_info": {
   "codemirror_mode": {
    "name": "ipython",
    "version": 3
   },
   "file_extension": ".py",
   "mimetype": "text/x-python",
   "name": "python",
   "nbconvert_exporter": "python",
   "pygments_lexer": "ipython3",
   "version": "3.9.0"
  },
  "orig_nbformat": 4,
  "vscode": {
   "interpreter": {
    "hash": "2db320f8a8002ae2117fb29f9d3d0d45665bde0a11c1acc90444243f310b1b71"
   }
  }
 },
 "nbformat": 4,
 "nbformat_minor": 2
}
