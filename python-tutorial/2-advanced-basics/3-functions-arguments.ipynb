{
 "cells": [
  {
   "cell_type": "code",
   "execution_count": 1,
   "metadata": {},
   "outputs": [],
   "source": [
    "def function(*args,**kwargs):\n",
    "    pass"
   ]
  },
  {
   "cell_type": "markdown",
   "metadata": {},
   "source": [
    "What are 'args' and 'kwargs'?"
   ]
  },
  {
   "cell_type": "markdown",
   "metadata": {},
   "source": [
    "Let's say, you want to write a functions that can do addition(sum), and multiplication. One thing, you can do is write individual functions for all, but you can write them in one single function using keywords arguments or kwargs. Let's understand through example."
   ]
  },
  {
   "cell_type": "code",
   "execution_count": 47,
   "metadata": {},
   "outputs": [],
   "source": [
    "def mathematics(items: list, **formula):\n",
    "    if formula[\"formula\"] == \"Sum\":\n",
    "        sum = 0\n",
    "        for i in items:\n",
    "            sum += i\n",
    "        return f'Addition result of {items} : {sum}'\n",
    "    elif formula[\"formula\"] == \"Multiply\":\n",
    "        mult = 1\n",
    "        for i in items:\n",
    "            mult *= i\n",
    "        return f'Multiplication result of {items} : {mult}'\n",
    "    elif formula[\"formula\"] != \"Sum\" or \"Multiply\":\n",
    "        raise Exception(\"Try Sum or Multiply as the keyword argument.\")"
   ]
  },
  {
   "cell_type": "code",
   "execution_count": 50,
   "metadata": {},
   "outputs": [
    {
     "data": {
      "text/plain": [
       "'Addition result of [1, 2, 3, 4] : 10'"
      ]
     },
     "execution_count": 50,
     "metadata": {},
     "output_type": "execute_result"
    }
   ],
   "source": [
    "mathematics([1,2,3,4],formula=\"Sum\")"
   ]
  },
  {
   "cell_type": "code",
   "execution_count": 51,
   "metadata": {},
   "outputs": [
    {
     "data": {
      "text/plain": [
       "'Multiplication result of [1, 2, 3, 4] : 24'"
      ]
     },
     "execution_count": 51,
     "metadata": {},
     "output_type": "execute_result"
    }
   ],
   "source": [
    "mathematics([1,2,3,4],formula=\"Multiply\")"
   ]
  },
  {
   "cell_type": "code",
   "execution_count": 52,
   "metadata": {},
   "outputs": [
    {
     "ename": "Exception",
     "evalue": "Try Sum or Multiply as the keyword argument.",
     "output_type": "error",
     "traceback": [
      "\u001b[0;31m---------------------------------------------------------------------------\u001b[0m",
      "\u001b[0;31mException\u001b[0m                                 Traceback (most recent call last)",
      "\u001b[1;32m/Users/gagandeepkundi/python-tutorial/2-advanced-basics/3-functions-arguments.ipynb Cell 8\u001b[0m in \u001b[0;36m<cell line: 1>\u001b[0;34m()\u001b[0m\n\u001b[0;32m----> <a href='vscode-notebook-cell:/Users/gagandeepkundi/python-tutorial/2-advanced-basics/3-functions-arguments.ipynb#X14sZmlsZQ%3D%3D?line=0'>1</a>\u001b[0m mathematics([\u001b[39m1\u001b[39;49m,\u001b[39m2\u001b[39;49m,\u001b[39m3\u001b[39;49m,\u001b[39m4\u001b[39;49m],formula\u001b[39m=\u001b[39;49m\u001b[39m\"\u001b[39;49m\u001b[39mSubtract\u001b[39;49m\u001b[39m\"\u001b[39;49m)\n",
      "\u001b[1;32m/Users/gagandeepkundi/python-tutorial/2-advanced-basics/3-functions-arguments.ipynb Cell 8\u001b[0m in \u001b[0;36mmathematics\u001b[0;34m(items, **formula)\u001b[0m\n\u001b[1;32m     <a href='vscode-notebook-cell:/Users/gagandeepkundi/python-tutorial/2-advanced-basics/3-functions-arguments.ipynb#X14sZmlsZQ%3D%3D?line=10'>11</a>\u001b[0m     \u001b[39mreturn\u001b[39;00m \u001b[39mf\u001b[39m\u001b[39m'\u001b[39m\u001b[39mMultiplication result of \u001b[39m\u001b[39m{\u001b[39;00mitems\u001b[39m}\u001b[39;00m\u001b[39m : \u001b[39m\u001b[39m{\u001b[39;00mmult\u001b[39m}\u001b[39;00m\u001b[39m'\u001b[39m\n\u001b[1;32m     <a href='vscode-notebook-cell:/Users/gagandeepkundi/python-tutorial/2-advanced-basics/3-functions-arguments.ipynb#X14sZmlsZQ%3D%3D?line=11'>12</a>\u001b[0m \u001b[39melif\u001b[39;00m formula[\u001b[39m\"\u001b[39m\u001b[39mformula\u001b[39m\u001b[39m\"\u001b[39m] \u001b[39m!=\u001b[39m \u001b[39m\"\u001b[39m\u001b[39mSum\u001b[39m\u001b[39m\"\u001b[39m \u001b[39mor\u001b[39;00m \u001b[39m\"\u001b[39m\u001b[39mMultiply\u001b[39m\u001b[39m\"\u001b[39m:\n\u001b[0;32m---> <a href='vscode-notebook-cell:/Users/gagandeepkundi/python-tutorial/2-advanced-basics/3-functions-arguments.ipynb#X14sZmlsZQ%3D%3D?line=12'>13</a>\u001b[0m     \u001b[39mraise\u001b[39;00m \u001b[39mException\u001b[39;00m(\u001b[39m\"\u001b[39m\u001b[39mTry Sum or Multiply as the keyword argument.\u001b[39m\u001b[39m\"\u001b[39m)\n",
      "\u001b[0;31mException\u001b[0m: Try Sum or Multiply as the keyword argument."
     ]
    }
   ],
   "source": [
    "mathematics([1,2,3,4],formula=\"Subtract\")"
   ]
  },
  {
   "cell_type": "code",
   "execution_count": 53,
   "metadata": {},
   "outputs": [],
   "source": [
    "def mathematics_2(items: list, formula: str):\n",
    "    if formula == \"Sum\":\n",
    "        sum = 0\n",
    "        for i in items:\n",
    "            sum += i\n",
    "        return f'Addition result of {items} : {sum}'\n",
    "    elif formula == \"Multiply\":\n",
    "        mult = 1\n",
    "        for i in items:\n",
    "            mult *= i\n",
    "        return f'Multiplication result of {items} : {mult}'\n",
    "    elif formula != \"Sum\" or \"Multiply\":\n",
    "        raise Exception(\"Try Sum or Multiply as the keyword argument.\")"
   ]
  },
  {
   "cell_type": "code",
   "execution_count": 57,
   "metadata": {},
   "outputs": [
    {
     "data": {
      "text/plain": [
       "'Addition result of [1, 2, 3, 4] : 10'"
      ]
     },
     "execution_count": 57,
     "metadata": {},
     "output_type": "execute_result"
    }
   ],
   "source": [
    "mathematics_2([1,2,3,4], \"Sum\")"
   ]
  },
  {
   "cell_type": "code",
   "execution_count": 58,
   "metadata": {},
   "outputs": [
    {
     "data": {
      "text/plain": [
       "'Multiplication result of [1, 2, 3, 4] : 24'"
      ]
     },
     "execution_count": 58,
     "metadata": {},
     "output_type": "execute_result"
    }
   ],
   "source": [
    "mathematics_2([1,2,3,4], \"Multiply\")"
   ]
  },
  {
   "cell_type": "code",
   "execution_count": 59,
   "metadata": {},
   "outputs": [
    {
     "ename": "Exception",
     "evalue": "Try Sum or Multiply as the keyword argument.",
     "output_type": "error",
     "traceback": [
      "\u001b[0;31m---------------------------------------------------------------------------\u001b[0m",
      "\u001b[0;31mException\u001b[0m                                 Traceback (most recent call last)",
      "\u001b[1;32m/Users/gagandeepkundi/python-tutorial/2-advanced-basics/3-functions-arguments.ipynb Cell 12\u001b[0m in \u001b[0;36m<cell line: 1>\u001b[0;34m()\u001b[0m\n\u001b[0;32m----> <a href='vscode-notebook-cell:/Users/gagandeepkundi/python-tutorial/2-advanced-basics/3-functions-arguments.ipynb#X21sZmlsZQ%3D%3D?line=0'>1</a>\u001b[0m mathematics_2([\u001b[39m1\u001b[39;49m,\u001b[39m2\u001b[39;49m,\u001b[39m3\u001b[39;49m,\u001b[39m4\u001b[39;49m], \u001b[39m\"\u001b[39;49m\u001b[39mSubtract\u001b[39;49m\u001b[39m\"\u001b[39;49m)\n",
      "\u001b[1;32m/Users/gagandeepkundi/python-tutorial/2-advanced-basics/3-functions-arguments.ipynb Cell 12\u001b[0m in \u001b[0;36mmathematics_2\u001b[0;34m(items, formula)\u001b[0m\n\u001b[1;32m     <a href='vscode-notebook-cell:/Users/gagandeepkundi/python-tutorial/2-advanced-basics/3-functions-arguments.ipynb#X21sZmlsZQ%3D%3D?line=10'>11</a>\u001b[0m     \u001b[39mreturn\u001b[39;00m \u001b[39mf\u001b[39m\u001b[39m'\u001b[39m\u001b[39mMultiplication result of \u001b[39m\u001b[39m{\u001b[39;00mitems\u001b[39m}\u001b[39;00m\u001b[39m : \u001b[39m\u001b[39m{\u001b[39;00mmult\u001b[39m}\u001b[39;00m\u001b[39m'\u001b[39m\n\u001b[1;32m     <a href='vscode-notebook-cell:/Users/gagandeepkundi/python-tutorial/2-advanced-basics/3-functions-arguments.ipynb#X21sZmlsZQ%3D%3D?line=11'>12</a>\u001b[0m \u001b[39melif\u001b[39;00m formula \u001b[39m!=\u001b[39m \u001b[39m\"\u001b[39m\u001b[39mSum\u001b[39m\u001b[39m\"\u001b[39m \u001b[39mor\u001b[39;00m \u001b[39m\"\u001b[39m\u001b[39mMultiply\u001b[39m\u001b[39m\"\u001b[39m:\n\u001b[0;32m---> <a href='vscode-notebook-cell:/Users/gagandeepkundi/python-tutorial/2-advanced-basics/3-functions-arguments.ipynb#X21sZmlsZQ%3D%3D?line=12'>13</a>\u001b[0m     \u001b[39mraise\u001b[39;00m \u001b[39mException\u001b[39;00m(\u001b[39m\"\u001b[39m\u001b[39mTry Sum or Multiply as the keyword argument.\u001b[39m\u001b[39m\"\u001b[39m)\n",
      "\u001b[0;31mException\u001b[0m: Try Sum or Multiply as the keyword argument."
     ]
    }
   ],
   "source": [
    "mathematics_2([1,2,3,4], \"Subtract\")"
   ]
  },
  {
   "cell_type": "code",
   "execution_count": null,
   "metadata": {},
   "outputs": [],
   "source": []
  }
 ],
 "metadata": {
  "kernelspec": {
   "display_name": "Python 3.9.12 ('base')",
   "language": "python",
   "name": "python3"
  },
  "language_info": {
   "codemirror_mode": {
    "name": "ipython",
    "version": 3
   },
   "file_extension": ".py",
   "mimetype": "text/x-python",
   "name": "python",
   "nbconvert_exporter": "python",
   "pygments_lexer": "ipython3",
   "version": "3.9.12"
  },
  "orig_nbformat": 4,
  "vscode": {
   "interpreter": {
    "hash": "2df62601e34b052a7879d49aa284d4570bc3c14c324ffab886cde46341e00144"
   }
  }
 },
 "nbformat": 4,
 "nbformat_minor": 2
}
