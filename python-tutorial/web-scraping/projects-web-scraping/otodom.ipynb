{
 "cells": [
  {
   "cell_type": "code",
   "execution_count": 1,
   "metadata": {},
   "outputs": [],
   "source": [
    "from selenium import webdriver\n",
    "from selenium.webdriver.common.by import By\n",
    "from selenium.webdriver.chrome.options import Options\n",
    "import time\n",
    "import re\n",
    "import pandas as pd\n",
    "import numpy as np"
   ]
  },
  {
   "cell_type": "code",
   "execution_count": 2,
   "metadata": {},
   "outputs": [],
   "source": [
    "website = f'https://www.otodom.pl/pl/oferty/sprzedaz/dom/krakow?limit=72&page=1'"
   ]
  },
  {
   "cell_type": "code",
   "execution_count": 3,
   "metadata": {},
   "outputs": [
    {
     "name": "stderr",
     "output_type": "stream",
     "text": [
      "/var/folders/mz/z1pq672n1911ycwnmc8w4myw0000gn/T/ipykernel_95363/1851838923.py:2: DeprecationWarning: executable_path has been deprecated, please pass in a Service object\n",
      "  driver = webdriver.Chrome(path)\n"
     ]
    }
   ],
   "source": [
    "path = '/Users/gagandeepkundi/Downloads/chromedriver-2'\n",
    "driver = webdriver.Chrome(path)\n",
    "driver.get(website)\n",
    "driver.maximize_window()"
   ]
  },
  {
   "cell_type": "code",
   "execution_count": 4,
   "metadata": {},
   "outputs": [],
   "source": [
    "time.sleep(2)\n",
    "cookies_button = driver.find_element(By.ID, \"onetrust-accept-btn-handler\")\n",
    "time.sleep(1)\n",
    "cookies_button.click()\n",
    "time.sleep(2)\n",
    "driver.execute_script(\"window.scrollTo(0, document.body.scrollHeight);\")\n",
    "time.sleep(1)"
   ]
  },
  {
   "cell_type": "code",
   "execution_count": 7,
   "metadata": {},
   "outputs": [
    {
     "data": {
      "text/html": [
       "<div>\n",
       "<style scoped>\n",
       "    .dataframe tbody tr th:only-of-type {\n",
       "        vertical-align: middle;\n",
       "    }\n",
       "\n",
       "    .dataframe tbody tr th {\n",
       "        vertical-align: top;\n",
       "    }\n",
       "\n",
       "    .dataframe thead th {\n",
       "        text-align: right;\n",
       "    }\n",
       "</style>\n",
       "<table border=\"1\" class=\"dataframe\">\n",
       "  <thead>\n",
       "    <tr style=\"text-align: right;\">\n",
       "      <th></th>\n",
       "      <th>Price</th>\n",
       "      <th>Price per m2</th>\n",
       "      <th>Rooms</th>\n",
       "      <th>Size M2</th>\n",
       "      <th>URL</th>\n",
       "      <th>Location</th>\n",
       "    </tr>\n",
       "  </thead>\n",
       "  <tbody>\n",
       "  </tbody>\n",
       "</table>\n",
       "</div>"
      ],
      "text/plain": [
       "Empty DataFrame\n",
       "Columns: [Price, Price per m2, Rooms, Size M2, URL, Location]\n",
       "Index: []"
      ]
     },
     "execution_count": 7,
     "metadata": {},
     "output_type": "execute_result"
    }
   ],
   "source": [
    "data = []\n",
    "location = driver.find_elements(by=By.XPATH, value='//span[@class=\"css-17o293g es62z2j9\"]')\n",
    "urls = driver.find_elements(by=By.XPATH, value='//a[@data-cy=\"listing-item-link\"]')\n",
    "flats_data = driver.find_elements(by=By.XPATH, value='//span[@class=\"css-s8wpzb e1brl80i2\"]')\n",
    "\n",
    "flats_data = [data.text for data in flats_data]\n",
    "flats_data_grouped = np.array_split(flats_data, len(flats_data)/4)\n",
    "for f, u, l in zip(flats_data_grouped, urls, location):\n",
    "    row_data = list(f)\n",
    "    row_data.append(u.get_attribute('href'))\n",
    "    row_data.append(l.text)\n",
    "    data.append(row_data)\n",
    "\n",
    "df = pd.DataFrame(data, columns =['Price', 'Price per m2', 'Rooms', 'Size M2', 'URL', 'Location'])\n",
    "df.drop_duplicates(subset=['URL'])"
   ]
  },
  {
   "cell_type": "code",
   "execution_count": null,
   "metadata": {},
   "outputs": [],
   "source": [
    "df.shape"
   ]
  },
  {
   "cell_type": "code",
   "execution_count": null,
   "metadata": {},
   "outputs": [],
   "source": [
    "df.to_csv('/Users/gagandeepkundi/Education/data-engineering/python-tutorial/web-scraping/projects-web-scraping/scraped_data/otodom_3.csv')"
   ]
  }
 ],
 "metadata": {
  "kernelspec": {
   "display_name": "Python 3.9.0 ('data_eng')",
   "language": "python",
   "name": "python3"
  },
  "language_info": {
   "codemirror_mode": {
    "name": "ipython",
    "version": 3
   },
   "file_extension": ".py",
   "mimetype": "text/x-python",
   "name": "python",
   "nbconvert_exporter": "python",
   "pygments_lexer": "ipython3",
   "version": "3.9.0"
  },
  "orig_nbformat": 4,
  "vscode": {
   "interpreter": {
    "hash": "2db320f8a8002ae2117fb29f9d3d0d45665bde0a11c1acc90444243f310b1b71"
   }
  }
 },
 "nbformat": 4,
 "nbformat_minor": 2
}
