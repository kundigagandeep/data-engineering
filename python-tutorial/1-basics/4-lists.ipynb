{
 "cells": [
  {
   "cell_type": "markdown",
   "metadata": {},
   "source": [
    "#### **Technical definition:** Lists are a collection of mutable objects. They are indexed by integers, starting from zero. Lists are represented by square brackets."
   ]
  },
  {
   "cell_type": "markdown",
   "metadata": {},
   "source": [
    "<table>\n",
    "<tr>\n",
    "<td>Methods</td>\n",
    "<td>Description</td>\n",
    "</tr>\n",
    "<tr>\n",
    "<td>list(s)</td>\n",
    "<td>Returns a list of the sequence s.</td>\n",
    "</tr> \n",
    "<tr>\n",
    "<td>s.append(x)</td>\n",
    "<td>Appends element x to the end of s.</td>\n",
    "</tr>\n",
    "<tr>\n",
    "<td>s.extend(x)</td>\n",
    "<td>Appends the list x to s.</td>\n",
    "</tr>\n",
    "<tr>\n",
    "<td>s.isalpha()</td>\n",
    "<td>Returns True if all characters are alphanumeric, returns False otherwise.</td>\n",
    "</tr>\n",
    "<tr>\n",
    "<td>s.count(x)</td>\n",
    "<td>Counts the occurrence of x in s.</td>\n",
    "</tr>\n",
    "</tr>\n",
    "<tr>\n",
    "<td>s.index(x, [start], [stop])</td>\n",
    "<td>Returns the smallest index, i, where s[i] ==x. Can include optional start and stop index for the search.</td>\n",
    "</tr>\n",
    "</tr>\n",
    "<tr>\n",
    "<td>s.pop(i)</td>\n",
    "<td>Returns the element i and removes it from the list.</td>\n",
    "</tr>\n",
    "</tr>\n",
    "<tr>\n",
    "<td>s.remove(x)</td>\n",
    "<td>Removes x from s.</td>\n",
    "</tr>\n",
    "</tr>\n",
    "<tr>\n",
    "<td>s.reverse()</td>\n",
    "<td>Reverses the order of s.</td>\n",
    "</tr>  \n",
    "</tr>\n",
    "<tr>\n",
    "<td>s.sort(key ,[reverse])</td>\n",
    "<td>Sorts s with optional key and reverse.</td>\n",
    "</tr>\n",
    "</table>"
   ]
  },
  {
   "cell_type": "code",
   "execution_count": 1,
   "metadata": {},
   "outputs": [
    {
     "name": "stdout",
     "output_type": "stream",
     "text": [
      "[1, 2, 3]\n"
     ]
    }
   ],
   "source": [
    "example_list = [1,2,3]\n",
    "print(example_list)"
   ]
  },
  {
   "cell_type": "code",
   "execution_count": 2,
   "metadata": {},
   "outputs": [
    {
     "data": {
      "text/plain": [
       "list"
      ]
     },
     "execution_count": 2,
     "metadata": {},
     "output_type": "execute_result"
    }
   ],
   "source": [
    "#Check the type of the list\n",
    "type(example_list)"
   ]
  },
  {
   "cell_type": "code",
   "execution_count": 3,
   "metadata": {},
   "outputs": [
    {
     "data": {
      "text/plain": [
       "3"
      ]
     },
     "execution_count": 3,
     "metadata": {},
     "output_type": "execute_result"
    }
   ],
   "source": [
    "#Use len function to \n",
    "len(example_list)"
   ]
  },
  {
   "cell_type": "code",
   "execution_count": 4,
   "metadata": {},
   "outputs": [
    {
     "data": {
      "text/plain": [
       "[1, 2]"
      ]
     },
     "execution_count": 4,
     "metadata": {},
     "output_type": "execute_result"
    }
   ],
   "source": [
    "#Slicing\n",
    "example_list[0:2]"
   ]
  },
  {
   "cell_type": "markdown",
   "metadata": {},
   "source": [
    "Nested List: List inside a list."
   ]
  },
  {
   "cell_type": "code",
   "execution_count": 5,
   "metadata": {},
   "outputs": [],
   "source": [
    "#Nested list\n",
    "nested_list_example = [1,2,3,[1,2,3]] "
   ]
  },
  {
   "cell_type": "code",
   "execution_count": 6,
   "metadata": {},
   "outputs": [
    {
     "name": "stdout",
     "output_type": "stream",
     "text": [
      "[1, 2, 3, [1, 2, 3]]\n"
     ]
    }
   ],
   "source": [
    "print(nested_list_example)"
   ]
  },
  {
   "cell_type": "code",
   "execution_count": 7,
   "metadata": {},
   "outputs": [
    {
     "name": "stdout",
     "output_type": "stream",
     "text": [
      "[1, 2, 3]\n"
     ]
    }
   ],
   "source": [
    "#If we access the third element of the list, we get another list.\n",
    "print(nested_list_example[3])"
   ]
  },
  {
   "cell_type": "code",
   "execution_count": 8,
   "metadata": {},
   "outputs": [
    {
     "name": "stdout",
     "output_type": "stream",
     "text": [
      "1\n"
     ]
    }
   ],
   "source": [
    "#To access elements of the nested list, we can fetch the values from the index\n",
    "\n",
    "print(nested_list_example[3][0])"
   ]
  },
  {
   "cell_type": "markdown",
   "metadata": {},
   "source": [
    "Insert"
   ]
  },
  {
   "cell_type": "code",
   "execution_count": 9,
   "metadata": {},
   "outputs": [
    {
     "name": "stdout",
     "output_type": "stream",
     "text": [
      "[1, 2, 1, 3]\n"
     ]
    }
   ],
   "source": [
    "#We inserted integer 1 in the position 2 i.e. between 2 and 3\n",
    "example_list.insert(2,1)\n",
    "print(example_list)"
   ]
  },
  {
   "cell_type": "markdown",
   "metadata": {},
   "source": [
    "Pop"
   ]
  },
  {
   "cell_type": "code",
   "execution_count": 10,
   "metadata": {},
   "outputs": [
    {
     "data": {
      "text/plain": [
       "1"
      ]
     },
     "execution_count": 10,
     "metadata": {},
     "output_type": "execute_result"
    }
   ],
   "source": [
    "#We removed the first object of the list i.e. 1 using index position 0\n",
    "example_list.pop(0)"
   ]
  },
  {
   "cell_type": "code",
   "execution_count": 11,
   "metadata": {},
   "outputs": [
    {
     "name": "stdout",
     "output_type": "stream",
     "text": [
      "[2, 1, 3]\n"
     ]
    }
   ],
   "source": [
    "print(example_list)"
   ]
  },
  {
   "cell_type": "code",
   "execution_count": 12,
   "metadata": {},
   "outputs": [
    {
     "name": "stdout",
     "output_type": "stream",
     "text": [
      "[2, 1]\n"
     ]
    }
   ],
   "source": [
    "#To remove/deleted the last object from the list, we can use -1, which means it will start indexing in the reverse order.\n",
    "example_list.pop(-1)\n",
    "print(example_list)"
   ]
  },
  {
   "cell_type": "markdown",
   "metadata": {},
   "source": [
    "Remove"
   ]
  },
  {
   "cell_type": "code",
   "execution_count": 13,
   "metadata": {},
   "outputs": [
    {
     "name": "stdout",
     "output_type": "stream",
     "text": [
      "[1, 2, 3, 'Roger', 3.14, True]\n"
     ]
    }
   ],
   "source": [
    "#In this example list, you can see many different data types including int, string, float, boolean\n",
    "example_list_2 = [1, 2, 3,'Roger', 3.14, True]\n",
    "print(example_list_2)"
   ]
  },
  {
   "cell_type": "code",
   "execution_count": 14,
   "metadata": {},
   "outputs": [],
   "source": [
    "#We can remove an object from the list using method 'remove' based on the values. Here's an example, where we can to delete 'Roger' from the list.\n",
    "example_list_2.remove('Roger')"
   ]
  },
  {
   "cell_type": "code",
   "execution_count": 15,
   "metadata": {},
   "outputs": [
    {
     "name": "stdout",
     "output_type": "stream",
     "text": [
      "[1, 2, 3, 3.14, True]\n"
     ]
    }
   ],
   "source": [
    "print(example_list_2)"
   ]
  },
  {
   "cell_type": "code",
   "execution_count": null,
   "metadata": {},
   "outputs": [],
   "source": []
  }
 ],
 "metadata": {
  "kernelspec": {
   "display_name": "Python 3.9.12 ('base')",
   "language": "python",
   "name": "python3"
  },
  "language_info": {
   "codemirror_mode": {
    "name": "ipython",
    "version": 3
   },
   "file_extension": ".py",
   "mimetype": "text/x-python",
   "name": "python",
   "nbconvert_exporter": "python",
   "pygments_lexer": "ipython3",
   "version": "3.9.12"
  },
  "orig_nbformat": 4,
  "vscode": {
   "interpreter": {
    "hash": "2df62601e34b052a7879d49aa284d4570bc3c14c324ffab886cde46341e00144"
   }
  }
 },
 "nbformat": 4,
 "nbformat_minor": 2
}
