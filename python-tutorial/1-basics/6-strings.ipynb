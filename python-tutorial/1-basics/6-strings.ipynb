{
 "cells": [
  {
   "cell_type": "markdown",
   "metadata": {},
   "source": [
    "## What are Strings?\n",
    "\n",
    "**Technical definition:** Strings are immutable sequence of objects, with each character representing the element of the sequence.\n",
    "\n",
    "**Informal Explanation:** Strings are characters, characters could be alphabets, words, numbers, or any other characters. Strings are initiated in single quotes(''), double qoutes(\"\"), or triple quotes(\"\"\"). <br> Let's do a *'Hello, world!* examples using all three."
   ]
  },
  {
   "cell_type": "code",
   "execution_count": 1,
   "metadata": {},
   "outputs": [
    {
     "name": "stdout",
     "output_type": "stream",
     "text": [
      "Hello, world!\n"
     ]
    }
   ],
   "source": [
    "print('Hello, world!')"
   ]
  },
  {
   "cell_type": "code",
   "execution_count": 2,
   "metadata": {},
   "outputs": [
    {
     "name": "stdout",
     "output_type": "stream",
     "text": [
      "Hello, world!\n"
     ]
    }
   ],
   "source": [
    "print(\"Hello, world!\")"
   ]
  },
  {
   "cell_type": "code",
   "execution_count": 3,
   "metadata": {},
   "outputs": [
    {
     "name": "stdout",
     "output_type": "stream",
     "text": [
      "Hello, World!\n"
     ]
    }
   ],
   "source": [
    "print(\"\"\"Hello, World!\"\"\")"
   ]
  },
  {
   "cell_type": "markdown",
   "metadata": {},
   "source": [
    "No the question that must be popping through your head would be, what is the difference between the three. Good question. <br>\n",
    "Let's see it by using an apostrophe in a sentence."
   ]
  },
  {
   "cell_type": "code",
   "execution_count": 4,
   "metadata": {},
   "outputs": [
    {
     "ename": "SyntaxError",
     "evalue": "invalid syntax (2088908433.py, line 1)",
     "output_type": "error",
     "traceback": [
      "\u001b[0;36m  Input \u001b[0;32mIn [4]\u001b[0;36m\u001b[0m\n\u001b[0;31m    print('Hello, world! Isn't this great')\u001b[0m\n\u001b[0m                             ^\u001b[0m\n\u001b[0;31mSyntaxError\u001b[0m\u001b[0;31m:\u001b[0m invalid syntax\n"
     ]
    }
   ],
   "source": [
    "print('Hello, world! Isn't this great')"
   ]
  },
  {
   "cell_type": "markdown",
   "metadata": {},
   "source": [
    "We get a syntax error, because python interpreter thinks the string finish between the first two single quotes. Two avoid this, you can use double or triple quotes."
   ]
  },
  {
   "cell_type": "code",
   "execution_count": 5,
   "metadata": {},
   "outputs": [
    {
     "name": "stdout",
     "output_type": "stream",
     "text": [
      "Hello, world! Isn't this great\n"
     ]
    }
   ],
   "source": [
    "print(\"Hello, world! Isn't this great\")"
   ]
  },
  {
   "cell_type": "markdown",
   "metadata": {},
   "source": [
    "See, no problem. Similarly there be situations where there are already double quotes in a sentence, or line break for such situations, you should use triple quotes."
   ]
  },
  {
   "cell_type": "code",
   "execution_count": 7,
   "metadata": {},
   "outputs": [
    {
     "ename": "SyntaxError",
     "evalue": "EOL while scanning string literal (1669816504.py, line 2)",
     "output_type": "error",
     "traceback": [
      "\u001b[0;36m  Input \u001b[0;32mIn [7]\u001b[0;36m\u001b[0m\n\u001b[0;31m    print(\"Hello, world!\u001b[0m\n\u001b[0m                         ^\u001b[0m\n\u001b[0;31mSyntaxError\u001b[0m\u001b[0;31m:\u001b[0m EOL while scanning string literal\n"
     ]
    }
   ],
   "source": [
    "#Bad Example\n",
    "print(\"Hello, world! \n",
    "Isn't this great.\")"
   ]
  },
  {
   "cell_type": "code",
   "execution_count": 6,
   "metadata": {},
   "outputs": [
    {
     "name": "stdout",
     "output_type": "stream",
     "text": [
      "Hello, world! \n",
      "Isn't this great.\n"
     ]
    }
   ],
   "source": [
    "print(\"\"\"Hello, world! \n",
    "Isn't this great.\"\"\")"
   ]
  },
  {
   "cell_type": "markdown",
   "metadata": {},
   "source": [
    "### Manipulating String"
   ]
  },
  {
   "cell_type": "markdown",
   "metadata": {},
   "source": [
    "<table>\n",
    "<tr>\n",
    "<td>Methods</td>\n",
    "<td>Description</td>\n",
    "</tr>\n",
    "<tr>\n",
    "<td>s.count(substring, [start,end])</td>\n",
    "<td>Counts the occurrences of a substring with optional start and end parameters.</td>\n",
    "</tr> \n",
    "<tr>\n",
    "<td>s.find(substring, [start, end])</td>\n",
    "<td>Returns the index of the first occurrence of a substring or returns -1 if the substring is not found.</td>\n",
    "</tr>\n",
    "<tr>\n",
    "<td>s.isalnum()</td>\n",
    "<td>Returns True if all characters are alphanumeric, returns False otherwise.</td>\n",
    "</tr>\n",
    "<tr>\n",
    "<td>s.isalpha()</td>\n",
    "<td>Returns True if all characters are alphabetic, returns False otherwise.</td>\n",
    "</tr>\n",
    "<tr>\n",
    "<td>s.isdigit()</td>\n",
    "<td>Returns True if all characters are digits, returns False otherwise.</td>\n",
    "</tr>\n",
    "</tr>\n",
    "<tr>\n",
    "<td>s.join(t)</td>\n",
    "<td>Joins the strings in sequence t.</td>\n",
    "</tr>\n",
    "</tr>\n",
    "<tr>\n",
    "<td>s.lower()</td>\n",
    "<td>Converts the string to all lowercase.</td>\n",
    "</tr>\n",
    "</tr>\n",
    "<tr>\n",
    "<td>s.replace(old, new [maxreplace])</td>\n",
    "<td>Replaces old substring with new substring.</td>\n",
    "</tr>\n",
    "</tr>\n",
    "<tr>\n",
    "<td>s.strip([characters])</td>\n",
    "<td>Replaces old substring with new substring.</td>\n",
    "</tr>  \n",
    "</tr>\n",
    "<tr>\n",
    "<td>s.replace(old, new [maxreplace])</td>\n",
    "<td>Removes whitespace or optional characters.</td>\n",
    "</tr>\n",
    "</tr>\n",
    "<tr>\n",
    "<td>s.split([separator], [maxsplit])</td>\n",
    "<td>Splits a string separated by whitespace or an optional separator. Returns a list.</td>\n",
    "</tr> \n",
    "</table>"
   ]
  },
  {
   "cell_type": "markdown",
   "metadata": {},
   "source": [
    "#### Count"
   ]
  },
  {
   "cell_type": "code",
   "execution_count": 8,
   "metadata": {},
   "outputs": [],
   "source": [
    "#This is our string\n",
    "s = 'Hello, World!' "
   ]
  },
  {
   "cell_type": "code",
   "execution_count": 19,
   "metadata": {},
   "outputs": [
    {
     "data": {
      "text/plain": [
       "13"
      ]
     },
     "execution_count": 19,
     "metadata": {},
     "output_type": "execute_result"
    }
   ],
   "source": [
    "#Count the number of characters in the string\n",
    "\n",
    "len(s)"
   ]
  },
  {
   "cell_type": "markdown",
   "metadata": {},
   "source": [
    "If you're unsure how it got 13 characters, it also include comma(,), space( ), and exclamation mark(!) as a character."
   ]
  },
  {
   "cell_type": "code",
   "execution_count": 24,
   "metadata": {},
   "outputs": [
    {
     "name": "stdout",
     "output_type": "stream",
     "text": [
      "H\n",
      "e\n",
      "l\n",
      "l\n",
      "o\n",
      ",\n",
      " \n",
      "W\n",
      "o\n",
      "r\n",
      "l\n",
      "d\n",
      "!\n"
     ]
    }
   ],
   "source": [
    "#You can run a for loop to check the individual characters better\n",
    "for i in s:\n",
    "    print(i)"
   ]
  },
  {
   "cell_type": "code",
   "execution_count": 16,
   "metadata": {},
   "outputs": [
    {
     "data": {
      "text/plain": [
       "0"
      ]
     },
     "execution_count": 16,
     "metadata": {},
     "output_type": "execute_result"
    }
   ],
   "source": [
    "# We can use count method to count the of time a character appears in the string. PS, it is case sensitive.\n",
    "s.count('h')"
   ]
  },
  {
   "cell_type": "code",
   "execution_count": 17,
   "metadata": {},
   "outputs": [
    {
     "data": {
      "text/plain": [
       "1"
      ]
     },
     "execution_count": 17,
     "metadata": {},
     "output_type": "execute_result"
    }
   ],
   "source": [
    "s.count('H')"
   ]
  },
  {
   "cell_type": "code",
   "execution_count": 18,
   "metadata": {},
   "outputs": [
    {
     "data": {
      "text/plain": [
       "0"
      ]
     },
     "execution_count": 18,
     "metadata": {},
     "output_type": "execute_result"
    }
   ],
   "source": [
    "#Since H is in zero position, it returned 0.\n",
    "s.find('H')"
   ]
  },
  {
   "cell_type": "code",
   "execution_count": 25,
   "metadata": {},
   "outputs": [
    {
     "data": {
      "text/plain": [
       "1"
      ]
     },
     "execution_count": 25,
     "metadata": {},
     "output_type": "execute_result"
    }
   ],
   "source": [
    "#Since e is in 1 position, it returned 0.\n",
    "s.find('e')"
   ]
  },
  {
   "cell_type": "code",
   "execution_count": 27,
   "metadata": {},
   "outputs": [
    {
     "data": {
      "text/plain": [
       "-1"
      ]
     },
     "execution_count": 27,
     "metadata": {},
     "output_type": "execute_result"
    }
   ],
   "source": [
    "#Since there is no character 'x', it returned -1.\n",
    "s.find('x')"
   ]
  },
  {
   "cell_type": "code",
   "execution_count": null,
   "metadata": {},
   "outputs": [],
   "source": []
  }
 ],
 "metadata": {
  "kernelspec": {
   "display_name": "Python 3.9.12 ('base')",
   "language": "python",
   "name": "python3"
  },
  "language_info": {
   "codemirror_mode": {
    "name": "ipython",
    "version": 3
   },
   "file_extension": ".py",
   "mimetype": "text/x-python",
   "name": "python",
   "nbconvert_exporter": "python",
   "pygments_lexer": "ipython3",
   "version": "3.9.12"
  },
  "orig_nbformat": 4,
  "vscode": {
   "interpreter": {
    "hash": "2df62601e34b052a7879d49aa284d4570bc3c14c324ffab886cde46341e00144"
   }
  }
 },
 "nbformat": 4,
 "nbformat_minor": 2
}
