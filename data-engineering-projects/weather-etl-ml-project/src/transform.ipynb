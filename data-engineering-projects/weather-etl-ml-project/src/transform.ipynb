{
 "cells": [
  {
   "cell_type": "code",
   "execution_count": 16,
   "metadata": {},
   "outputs": [],
   "source": [
    "from pathlib import Path\n",
    "import pandas as pd\n",
    "\n",
    "p = Path(\"/Users/gagandeepkundi/data-engineering/projects/weather-etl-ml-project\")\n",
    "\n",
    "raw_data_path = p/'data/01_raw'\n",
    "intermediate_data_path = p/'data/02_intermediate'"
   ]
  },
  {
   "cell_type": "code",
   "execution_count": 17,
   "metadata": {},
   "outputs": [],
   "source": [
    "files = list(raw_data_path.iterdir())"
   ]
  },
  {
   "cell_type": "code",
   "execution_count": 18,
   "metadata": {},
   "outputs": [],
   "source": [
    "df_main = []\n",
    "for i in files:\n",
    "    df = pd.read_csv(i)\n",
    "    df_main.append(df)\n",
    "df_final = pd.concat(df_main,axis=0)                 \n",
    "df_final.to_csv(f'{str(intermediate_data_path)}/weather.csv', index=False)"
   ]
  }
 ],
 "metadata": {
  "kernelspec": {
   "display_name": "Python 3.9.0 ('data_eng')",
   "language": "python",
   "name": "python3"
  },
  "language_info": {
   "codemirror_mode": {
    "name": "ipython",
    "version": 3
   },
   "file_extension": ".py",
   "mimetype": "text/x-python",
   "name": "python",
   "nbconvert_exporter": "python",
   "pygments_lexer": "ipython3",
   "version": "3.9.0"
  },
  "orig_nbformat": 4,
  "vscode": {
   "interpreter": {
    "hash": "2db320f8a8002ae2117fb29f9d3d0d45665bde0a11c1acc90444243f310b1b71"
   }
  }
 },
 "nbformat": 4,
 "nbformat_minor": 2
}
