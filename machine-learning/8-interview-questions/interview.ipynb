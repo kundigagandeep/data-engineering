{
 "cells": [
  {
   "cell_type": "markdown",
   "metadata": {},
   "source": [
    "1. What are the differences between supervised and unsupervised learning?\n",
    "2. How is logistic regression done?\n",
    "3. Explain the steps in making a decision tree.\n",
    "4. How do you build a random forest model?\n",
    "5. How can you avoid overfitting your model?\n",
    "6. Differentiate between univariate, bivariate, and multivariate analysis.\n",
    "7. What are the feature selection methods used to select the right variables?\n",
    "8. In your choice of language, write a program that prints the numbers ranging from one to 50.\n",
    "9. You are given a data set consisting of variables with more than 30 percent missing values. How will you deal with them?\n",
    "10. For the given points, how will you calculate the Euclidean distance in Python?\n",
    "11. What are dimensionality reduction and its benefits?\n",
    "12. How will you calculate eigenvalues and eigenvectors of the following 3x3 matrix?\n",
    "13. How should you maintain a deployed model?\n",
    "14. What are recommender systems?\n",
    "15. How do you find RMSE and MSE in a linear regression model?\n",
    "16. How can you select k for k-means? \n",
    "17. What is the significance of p-value?\n",
    "18. How can outlier values be treated?\n",
    "19. How can time-series data be declared as stationery?\n",
    "20. How can you calculate accuracy using a confusion matrix?\n",
    "21. Write the equation and calculate the precision and recall rate.\n",
    "22. 'People who bought this also bought…' recommendations seen on Amazon are a result of which algorithm?\n",
    "23. Write a basic SQL query that lists all orders with customer information.\n",
    "24. You are given a dataset on cancer detection. You have built a classification model and achieved an accuracy of 96 percent. Why shouldn't you be happy with your model performance? What can you do about it?\n",
    "25. Which of the following machine learning algorithms can be used for inputting missing values of both categorical and continuous variables?\n",
    "26. Below are the eight actual values of the target variable in the train file. What is the entropy of the target variable?\n",
    "27. We want to predict the probability of death from heart disease based on three risk factors: age, gender, and blood cholesterol level. What is the most appropriate algorithm for this case?\n",
    "28. After studying the behavior of a population, you have identified four specific individual types that are valuable to your study. You would like to find all users who are most similar to each individual type. Which algorithm is most appropriate for this study?\n",
    "29. You have run the association rules algorithm on your dataset, and the two rules {banana, apple} =&gt; {grape} and {apple, orange} =&gt; {grape} have been found to be relevant. What else must be true?\n",
    "30. Your organization has a website where visitors randomly receive one of two coupons. It is also possible that visitors to the website will not receive a coupon. You have been asked to determine if offering a coupon to website visitors has any impact on their purchase decisions. Which analysis method should you use?\n",
    "31. What do you understand about true positive rate and false-positive rate?\n",
    "32. What is the ROC curve?\n",
    "33. What is a Confusion Matrix?\n",
    "34. What do you understand about the true-positive rate and false-positive rate?\n",
    "35. How is Data Science different from traditional application programming?\n",
    "36. What is the difference between the long format data and wide format data?\n",
    "37. Mention some techniques used for sampling. What is the main advantage of sampling?\n",
    "38. Why is Python used for Data Cleaning in DS?\n",
    "39. What are the popular libraries used in Data Science?\n",
    "40. What is variance in Data Science?\n",
    "41. What is pruning in a decision tree algorithm?\n",
    "42. What is entropy in a decision tree algorithm?\n",
    "43. What information is gained in a decision tree algorithm?\n",
    "44. What is k-fold cross-validation?\n",
    "45. What is a normal distribution?\n",
    "46. What is Deep Learning?\n",
    "47. What is an RNN (recurrent neural network)?\n",
    "48. What are the feature vectors?\n",
    "49. What are the steps in making a decision tree?\n",
    "50. What is root cause analysis?\n",
    "51. What is logistic regression?\n",
    "52. What are recommender systems?\n",
    "53. Explain cross-validation.\n",
    "54. What is collaborative filtering?\n",
    "55. Do gradient descent methods always converge to similar points?\n",
    "56. What is the goal of A/B Testing?\n",
    "57. What are the drawbacks of the linear model?\n",
    "58. What is the law of large numbers?\n",
    "59.  What are the confounding variables?\n",
    "60. What is star schema?\n",
    "61. How regularly must an algorithm be updated?\n",
    "62.  What are eigenvalue and eigenvector?\n",
    "63. Why is resampling done?\n",
    "64. What is selection bias?\n",
    "65. What are the types of biases that can occur during sampling?\n",
    "66. What is survivorship bias?\n",
    "67. How do you work towards a random forest?\n",
    "68. What is a bias-variance trade-off?\n",
    "69. Describe Markov chains?\n",
    "70. Why is R used in Data Visualization?\n",
    "71. What is the difference between a box plot and a histogram?\n",
    "72. What does NLP stand for?\n",
    "73. Difference between an error and a residual error\n",
    "74. Difference between Normalisation and Standardization\n",
    "75. Difference between Point Estimates and Confidence Interval"
   ]
  },
  {
   "cell_type": "markdown",
   "metadata": {},
   "source": [
    "### 1. What are the differences between supervised and unsupervised learning?"
   ]
  },
  {
   "cell_type": "markdown",
   "metadata": {},
   "source": [
    "#### Supervised Learning\n",
    "\n",
    "Supervised Learning is when i"
   ]
  }
 ],
 "metadata": {
  "kernelspec": {
   "display_name": "Python 3.9.0 ('data_eng')",
   "language": "python",
   "name": "python3"
  },
  "language_info": {
   "name": "python",
   "version": "3.9.0"
  },
  "orig_nbformat": 4,
  "vscode": {
   "interpreter": {
    "hash": "2db320f8a8002ae2117fb29f9d3d0d45665bde0a11c1acc90444243f310b1b71"
   }
  }
 },
 "nbformat": 4,
 "nbformat_minor": 2
}
